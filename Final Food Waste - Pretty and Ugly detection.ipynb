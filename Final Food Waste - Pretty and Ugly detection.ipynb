{
 "cells": [
  {
   "cell_type": "code",
   "execution_count": null,
   "id": "52b78a0d-48bd-4386-999b-b2ee2a7cdd9d",
   "metadata": {},
   "outputs": [],
   "source": []
  },
  {
   "cell_type": "code",
   "execution_count": 1,
   "id": "1b2a0158-afa7-4c94-92c9-5d3df8440998",
   "metadata": {},
   "outputs": [
    {
     "name": "stdout",
     "output_type": "stream",
     "text": [
      "['.ipynb_checkpoints', 'first_try_food_waste_two_classes_model.h5', 'old test', 'old train', 'second_try_food_waste_model.h5', 'test', 'train', 'Two Classes - Fruit freshness and rottenness detection.ipynb', 'Two Classes - Fruit Pretty and Ugly detection.ipynb', 'Untitled.ipynb']\n"
     ]
    }
   ],
   "source": [
    "import numpy as np\n",
    "import pandas as pd\n",
    "import matplotlib.pyplot as plt\n",
    "import seaborn as sns\n",
    "import glob\n",
    "import cv2\n",
    "import os\n",
    "\n",
    "import warnings\n",
    "# filter warnings\n",
    "warnings.filterwarnings('ignore')\n",
    "\n",
    "\n",
    "import os\n",
    "print(os.listdir(r\"C:\\Users\\20205228\\OneDrive - TU Eindhoven\\Desktop\\Hack4Good\\New dataset\\Fruit Dataset - two classes\"))\n",
    "from subprocess import check_output"
   ]
  },
  {
   "cell_type": "code",
   "execution_count": 2,
   "id": "b594a21b-d68c-4469-bd2f-50f6a35e75d7",
   "metadata": {},
   "outputs": [],
   "source": [
    "np.random.seed(1234)\n",
    "directory= r\"C:\\Users\\20205228\\OneDrive - TU Eindhoven\\Desktop\\Hack4Good\\New dataset\\Fruit Dataset - two classes\\train\"\n",
    "classes=[\"Pretty\",\"Ugly\"]\n",
    "\n",
    "all_arrays=[]\n",
    "img_size=100\n",
    "for i in classes:\n",
    "    path=os.path.join(directory,i)\n",
    "    class_num=classes.index(i)\n",
    "    for img in os.listdir(path):\n",
    "        #img_array=cv2.imread(os.path.join(path,img),\n",
    "        #                     cv2.IMREAD_GRAYSCALE)\n",
    "        img_array=cv2.imread(os.path.join(path,img))\n",
    "        img_array=cv2.cvtColor(img_array, cv2.COLOR_BGR2RGB)\n",
    "        img_array=cv2.resize(img_array,(img_size,img_size))\n",
    "        all_arrays.append([img_array,class_num])"
   ]
  },
  {
   "cell_type": "code",
   "execution_count": 3,
   "id": "dcf9b726-0374-41bd-9f7e-dbed58d47f12",
   "metadata": {},
   "outputs": [],
   "source": [
    "directory2 = r\"C:\\Users\\20205228\\OneDrive - TU Eindhoven\\Desktop\\Hack4Good\\New dataset\\Fruit Dataset - two classes\\test\"\n",
    "classes2 =[\"Pretty\",\"Ugly\"]\n",
    "\n",
    "all_arrays2=[]\n",
    "img_size=100\n",
    "for i in classes2:\n",
    "    path=os.path.join(directory2,i)\n",
    "    class_num2=classes2.index(i)\n",
    "    for img in os.listdir(path):\n",
    "        #img_array2=cv2.imread(os.path.join(path,img),\n",
    "        #                     cv2.IMREAD_GRAYSCALE)\n",
    "        img_array2=cv2.imread(os.path.join(path,img))\n",
    "        img_array2=cv2.cvtColor(img_array2, cv2.COLOR_BGR2RGB)\n",
    "        img_array2=cv2.resize(img_array2,(img_size,img_size))\n",
    "        all_arrays2.append([img_array2,class_num2])"
   ]
  },
  {
   "cell_type": "code",
   "execution_count": 4,
   "id": "6978f4ab-1efb-4cad-8fbe-3708095e0667",
   "metadata": {},
   "outputs": [],
   "source": [
    "import random\n",
    "random.shuffle(all_arrays)\n",
    "\n",
    "X_train=[]\n",
    "Y_train=[]\n",
    "for features,label in all_arrays:\n",
    "    X_train.append(features)\n",
    "    Y_train.append(label)\n",
    "X_train=np.array(X_train) #arraying\n",
    "\n",
    "import random\n",
    "random.shuffle(all_arrays2)\n",
    "\n",
    "X_test=[]\n",
    "Y_test=[]\n",
    "for features,label in all_arrays2:\n",
    "    X_test.append(features)\n",
    "    Y_test.append(label)\n",
    "X_test=np.array(X_test) #arraying"
   ]
  },
  {
   "cell_type": "code",
   "execution_count": 5,
   "id": "1b35d8cf-659e-4376-9eb8-09d2b8376eed",
   "metadata": {},
   "outputs": [
    {
     "name": "stdout",
     "output_type": "stream",
     "text": [
      "shape of X_train=  (10901, 100, 100, 3)\n",
      "shape of X_test=   (2310, 100, 100, 3)\n"
     ]
    }
   ],
   "source": [
    "#normalization and reshaping\n",
    "X_train=X_train.reshape(-1,img_size,img_size,3)\n",
    "X_train=X_train/255\n",
    "X_test=X_test.reshape(-1,img_size,img_size,3)\n",
    "X_test=X_test/255\n",
    "print(\"shape of X_train= \",X_train.shape)\n",
    "print(\"shape of X_test=  \",X_test.shape)"
   ]
  },
  {
   "cell_type": "code",
   "execution_count": 6,
   "id": "725c76db-dd58-4fc3-ac16-96aba4f0625b",
   "metadata": {},
   "outputs": [],
   "source": [
    "#from keras.utils import to_categorical\n",
    "from tensorflow.keras.utils import to_categorical\n",
    "Y_train=to_categorical(Y_train,num_classes=2)\n",
    "Y_test=to_categorical(Y_test,num_classes=2)"
   ]
  },
  {
   "cell_type": "code",
   "execution_count": 7,
   "id": "bcd183a1-e3eb-426f-8362-2196f7f783af",
   "metadata": {},
   "outputs": [
    {
     "data": {
      "text/plain": [
       "(10901, 2)"
      ]
     },
     "execution_count": 7,
     "metadata": {},
     "output_type": "execute_result"
    }
   ],
   "source": [
    "Y_train.shape"
   ]
  },
  {
   "cell_type": "code",
   "execution_count": 8,
   "id": "16c49842-ba12-4d48-aa37-b898f36c8e32",
   "metadata": {},
   "outputs": [
    {
     "data": {
      "text/plain": [
       "(2310, 2)"
      ]
     },
     "execution_count": 8,
     "metadata": {},
     "output_type": "execute_result"
    }
   ],
   "source": [
    "Y_test.shape"
   ]
  },
  {
   "cell_type": "code",
   "execution_count": 9,
   "id": "31ea1d80-4782-43e1-8564-551b18c66d69",
   "metadata": {},
   "outputs": [],
   "source": [
    "from sklearn.model_selection import  train_test_split\n",
    "x_train,x_val,y_train,y_val=train_test_split(X_train,Y_train,test_size=0.2,random_state=42)"
   ]
  },
  {
   "cell_type": "code",
   "execution_count": 10,
   "id": "09fc2e5d-254c-44da-858f-d58a984c5e1c",
   "metadata": {},
   "outputs": [],
   "source": [
    "from sklearn.metrics import confusion_matrix\n",
    "import itertools\n",
    "\n",
    "from keras.utils.np_utils import to_categorical\n",
    "from keras.models import Sequential\n",
    "from keras.layers import Dense,Dropout,Flatten,Conv2D,MaxPool2D\n",
    "from tensorflow.keras.optimizers import Adam\n",
    "from keras.preprocessing.image import ImageDataGenerator\n",
    "\n",
    "from keras.callbacks import ReduceLROnPlateau\n",
    "\n",
    "\n",
    "model=Sequential()\n",
    "model.add(Conv2D(filters=8,kernel_size=(3,3),padding=\"Same\",activation=\"relu\",input_shape=(100,100,3)))\n",
    "model.add(MaxPool2D(pool_size=(2,2)))\n",
    "model.add(Dropout(0.35))\n",
    "\n",
    "model.add(Conv2D(filters=16,kernel_size=(3,3),padding=\"Same\",activation=\"relu\"))\n",
    "model.add(MaxPool2D(pool_size=(2,2),strides=(2,2)))\n",
    "model.add(Dropout(0.35))\n",
    "\n",
    "model.add(Conv2D(filters=32,kernel_size=(3,3),padding=\"Same\",activation=\"relu\"))\n",
    "model.add(MaxPool2D(pool_size=(2,2),strides=(2,2)))\n",
    "model.add(Dropout(0.35))\n",
    "model.add(Flatten())\n",
    "model.add(Dense(512,activation=\"relu\"))\n",
    "model.add(Dropout(0.5))\n",
    "model.add(Dense(2,activation=\"softmax\"))\n",
    "#defining optimizer\n",
    "optimizer=Adam(lr=0.001,beta_1=0.9,beta_2=0.999)\n",
    "#compile the model\n",
    "model.compile(optimizer=optimizer,loss=\"categorical_crossentropy\",metrics=[\"accuracy\"])\n",
    "\n",
    "epochs=50\n",
    "batch_size=18"
   ]
  },
  {
   "cell_type": "code",
   "execution_count": 11,
   "id": "7fd1cd60-6f70-45a0-be7f-500a86c55e10",
   "metadata": {},
   "outputs": [
    {
     "name": "stdout",
     "output_type": "stream",
     "text": [
      "Epoch 1/50\n",
      "484/484 [==============================] - 69s 141ms/step - loss: 0.6446 - accuracy: 0.6264 - val_loss: 0.5652 - val_accuracy: 0.7199\n",
      "Epoch 2/50\n",
      "484/484 [==============================] - 70s 143ms/step - loss: 0.5163 - accuracy: 0.7547 - val_loss: 0.4515 - val_accuracy: 0.7937\n",
      "Epoch 3/50\n",
      "484/484 [==============================] - 77s 159ms/step - loss: 0.4390 - accuracy: 0.8046 - val_loss: 0.4073 - val_accuracy: 0.7992\n",
      "Epoch 4/50\n",
      "484/484 [==============================] - 71s 148ms/step - loss: 0.4032 - accuracy: 0.8264 - val_loss: 0.3706 - val_accuracy: 0.8418\n",
      "Epoch 5/50\n",
      "484/484 [==============================] - 66s 136ms/step - loss: 0.3639 - accuracy: 0.8482 - val_loss: 0.4499 - val_accuracy: 0.7836\n",
      "Epoch 6/50\n",
      "484/484 [==============================] - 68s 140ms/step - loss: 0.3550 - accuracy: 0.8472 - val_loss: 0.3563 - val_accuracy: 0.8510\n",
      "Epoch 7/50\n",
      "484/484 [==============================] - 73s 150ms/step - loss: 0.3525 - accuracy: 0.8472 - val_loss: 0.3389 - val_accuracy: 0.8409\n",
      "Epoch 8/50\n",
      "484/484 [==============================] - 75s 155ms/step - loss: 0.3400 - accuracy: 0.8551 - val_loss: 0.3731 - val_accuracy: 0.8418\n",
      "Epoch 9/50\n",
      "484/484 [==============================] - 76s 156ms/step - loss: 0.3350 - accuracy: 0.8575 - val_loss: 0.3909 - val_accuracy: 0.8349\n",
      "Epoch 10/50\n",
      "484/484 [==============================] - 71s 147ms/step - loss: 0.3282 - accuracy: 0.8636 - val_loss: 0.3587 - val_accuracy: 0.8372\n",
      "Epoch 11/50\n",
      "484/484 [==============================] - 70s 144ms/step - loss: 0.3320 - accuracy: 0.8567 - val_loss: 0.3713 - val_accuracy: 0.8294\n",
      "Epoch 12/50\n",
      "484/484 [==============================] - 94s 194ms/step - loss: 0.3202 - accuracy: 0.8655 - val_loss: 0.3994 - val_accuracy: 0.8079\n",
      "Epoch 13/50\n",
      "484/484 [==============================] - 90s 186ms/step - loss: 0.3181 - accuracy: 0.8652 - val_loss: 0.4277 - val_accuracy: 0.8313\n",
      "Epoch 14/50\n",
      "484/484 [==============================] - 88s 181ms/step - loss: 0.3221 - accuracy: 0.8629 - val_loss: 0.3403 - val_accuracy: 0.8492\n",
      "Epoch 15/50\n",
      "484/484 [==============================] - 118s 244ms/step - loss: 0.3138 - accuracy: 0.8704 - val_loss: 0.3454 - val_accuracy: 0.8423\n",
      "Epoch 16/50\n",
      "484/484 [==============================] - 76s 158ms/step - loss: 0.3196 - accuracy: 0.8719 - val_loss: 0.3370 - val_accuracy: 0.8459\n",
      "Epoch 17/50\n",
      "484/484 [==============================] - 73s 150ms/step - loss: 0.3014 - accuracy: 0.8735 - val_loss: 0.3436 - val_accuracy: 0.8423\n",
      "Epoch 18/50\n",
      "484/484 [==============================] - 72s 148ms/step - loss: 0.2802 - accuracy: 0.8834 - val_loss: 0.3176 - val_accuracy: 0.8556\n",
      "Epoch 19/50\n",
      "484/484 [==============================] - 78s 161ms/step - loss: 0.2698 - accuracy: 0.8868 - val_loss: 0.2730 - val_accuracy: 0.8780\n",
      "Epoch 20/50\n",
      "484/484 [==============================] - 75s 154ms/step - loss: 0.2765 - accuracy: 0.8855 - val_loss: 0.3051 - val_accuracy: 0.8579\n",
      "Epoch 21/50\n",
      "484/484 [==============================] - 75s 155ms/step - loss: 0.2599 - accuracy: 0.8913 - val_loss: 0.3627 - val_accuracy: 0.8501\n",
      "Epoch 22/50\n",
      "484/484 [==============================] - 75s 155ms/step - loss: 0.2598 - accuracy: 0.8923 - val_loss: 0.3051 - val_accuracy: 0.8501\n",
      "Epoch 23/50\n",
      "484/484 [==============================] - 73s 150ms/step - loss: 0.2635 - accuracy: 0.8853 - val_loss: 0.2926 - val_accuracy: 0.8638\n",
      "Epoch 24/50\n",
      "484/484 [==============================] - 97s 199ms/step - loss: 0.2670 - accuracy: 0.8893 - val_loss: 0.3604 - val_accuracy: 0.8262\n",
      "Epoch 25/50\n",
      "484/484 [==============================] - 78s 161ms/step - loss: 0.2549 - accuracy: 0.8909 - val_loss: 0.3271 - val_accuracy: 0.8560\n",
      "Epoch 26/50\n",
      "484/484 [==============================] - 84s 174ms/step - loss: 0.2610 - accuracy: 0.8924 - val_loss: 0.3125 - val_accuracy: 0.8606\n",
      "Epoch 27/50\n",
      "484/484 [==============================] - 90s 186ms/step - loss: 0.2423 - accuracy: 0.9007 - val_loss: 0.5057 - val_accuracy: 0.7703\n",
      "Epoch 28/50\n",
      "484/484 [==============================] - 82s 169ms/step - loss: 0.2529 - accuracy: 0.8960 - val_loss: 0.3100 - val_accuracy: 0.8560\n",
      "Epoch 29/50\n",
      "484/484 [==============================] - 89s 184ms/step - loss: 0.2558 - accuracy: 0.8912 - val_loss: 0.2991 - val_accuracy: 0.8528\n",
      "Epoch 30/50\n",
      "484/484 [==============================] - 71s 146ms/step - loss: 0.2471 - accuracy: 0.8978 - val_loss: 0.3475 - val_accuracy: 0.8634\n",
      "Epoch 31/50\n",
      "484/484 [==============================] - 69s 142ms/step - loss: 0.2490 - accuracy: 0.8999 - val_loss: 0.2586 - val_accuracy: 0.8739\n",
      "Epoch 32/50\n",
      "484/484 [==============================] - 65s 133ms/step - loss: 0.2501 - accuracy: 0.8959 - val_loss: 0.2999 - val_accuracy: 0.8670\n",
      "Epoch 33/50\n",
      "484/484 [==============================] - 62s 129ms/step - loss: 0.2420 - accuracy: 0.8982 - val_loss: 0.3290 - val_accuracy: 0.8464\n",
      "Epoch 34/50\n",
      "484/484 [==============================] - 64s 131ms/step - loss: 0.2433 - accuracy: 0.8991 - val_loss: 0.3503 - val_accuracy: 0.8450\n",
      "Epoch 35/50\n",
      "484/484 [==============================] - 67s 139ms/step - loss: 0.2454 - accuracy: 0.8970 - val_loss: 0.2745 - val_accuracy: 0.8675\n",
      "Epoch 36/50\n",
      "484/484 [==============================] - 70s 144ms/step - loss: 0.2382 - accuracy: 0.9012 - val_loss: 0.3138 - val_accuracy: 0.8620\n",
      "Epoch 37/50\n",
      "484/484 [==============================] - 67s 138ms/step - loss: 0.2424 - accuracy: 0.9004 - val_loss: 0.3415 - val_accuracy: 0.8363\n",
      "Epoch 38/50\n",
      "484/484 [==============================] - 62s 128ms/step - loss: 0.2412 - accuracy: 0.8990 - val_loss: 0.2912 - val_accuracy: 0.8670\n",
      "Epoch 39/50\n",
      "484/484 [==============================] - 66s 136ms/step - loss: 0.2355 - accuracy: 0.9001 - val_loss: 0.3245 - val_accuracy: 0.8643\n",
      "Epoch 40/50\n",
      "484/484 [==============================] - 64s 132ms/step - loss: 0.2324 - accuracy: 0.9065 - val_loss: 0.2552 - val_accuracy: 0.8964\n",
      "Epoch 41/50\n",
      "484/484 [==============================] - 67s 139ms/step - loss: 0.2360 - accuracy: 0.9046 - val_loss: 0.2694 - val_accuracy: 0.8863\n",
      "Epoch 42/50\n",
      "484/484 [==============================] - 64s 133ms/step - loss: 0.2434 - accuracy: 0.8997 - val_loss: 0.3328 - val_accuracy: 0.8482\n",
      "Epoch 43/50\n",
      "484/484 [==============================] - 66s 136ms/step - loss: 0.2296 - accuracy: 0.9039 - val_loss: 0.3093 - val_accuracy: 0.8666\n",
      "Epoch 44/50\n",
      "484/484 [==============================] - 82s 170ms/step - loss: 0.2344 - accuracy: 0.9035 - val_loss: 0.2952 - val_accuracy: 0.8693\n",
      "Epoch 45/50\n",
      "484/484 [==============================] - 136s 281ms/step - loss: 0.2305 - accuracy: 0.9037 - val_loss: 0.3838 - val_accuracy: 0.8528\n",
      "Epoch 46/50\n",
      "484/484 [==============================] - 136s 281ms/step - loss: 0.2406 - accuracy: 0.9012 - val_loss: 0.3108 - val_accuracy: 0.8537\n",
      "Epoch 47/50\n",
      "484/484 [==============================] - 136s 280ms/step - loss: 0.2233 - accuracy: 0.9054 - val_loss: 0.3224 - val_accuracy: 0.8528\n",
      "Epoch 48/50\n",
      "484/484 [==============================] - 138s 284ms/step - loss: 0.2314 - accuracy: 0.9066 - val_loss: 0.2895 - val_accuracy: 0.8785\n",
      "Epoch 49/50\n",
      "484/484 [==============================] - 131s 271ms/step - loss: 0.2223 - accuracy: 0.9068 - val_loss: 0.3213 - val_accuracy: 0.8478\n",
      "Epoch 50/50\n",
      "484/484 [==============================] - 135s 278ms/step - loss: 0.2212 - accuracy: 0.9078 - val_loss: 0.3087 - val_accuracy: 0.8450\n"
     ]
    }
   ],
   "source": [
    "datagen=ImageDataGenerator(featurewise_center=False, #set input mean to 0\n",
    "                           samplewise_center=False,  #set each sample mean to 0\n",
    "                           featurewise_std_normalization=False, #divide input datas to std\n",
    "                           samplewise_std_normalization=False,  #divide each datas to own std\n",
    "                           zca_whitening=False,  #dimension reduction\n",
    "                           rotation_range=0.5,    #rotate 5 degree\n",
    "                           zoom_range=0.5,        #zoom in-out 5%\n",
    "                           width_shift_range=0.5, #shift 5%\n",
    "                           height_shift_range=0.5,\n",
    "                           horizontal_flip=False,  #randomly flip images\n",
    "                           vertical_flip=False,\n",
    "                           )\n",
    "datagen.fit(x_train)\n",
    "\n",
    "#model fitting\n",
    "history=model.fit_generator(datagen.flow(x_train,y_train,batch_size=batch_size),epochs=epochs,\n",
    "                            validation_data=(x_val,y_val),steps_per_epoch=x_train.shape[0]//batch_size\n",
    "                           )\n"
   ]
  },
  {
   "cell_type": "code",
   "execution_count": 12,
   "id": "d196b180-5ffe-41d0-a815-da7183d863b6",
   "metadata": {},
   "outputs": [
    {
     "data": {
      "image/png": "[encoded data removed]",
      "text/plain": [
       "<Figure size 432x288 with 1 Axes>"
      ]
     },
     "metadata": {
      "needs_background": "light"
     },
     "output_type": "display_data"
    }
   ],
   "source": [
    "plt.plot(history.history[\"val_accuracy\"],color=\"r\",label=\"val_accuracy\")\n",
    "plt.title(\"Accuracy Graph\")\n",
    "plt.xlabel(\"number of epochs\")\n",
    "plt.ylabel(\"accuracy\")\n",
    "plt.legend()\n",
    "plt.grid()\n",
    "plt.show()"
   ]
  },
  {
   "cell_type": "code",
   "execution_count": 13,
   "id": "f281ba90-38da-46c5-ae27-6df63ab448c9",
   "metadata": {},
   "outputs": [
    {
     "data": {
      "image/png": "[encoded data removed]",
      "text/plain": [
       "<Figure size 864x792 with 2 Axes>"
      ]
     },
     "metadata": {
      "needs_background": "light"
     },
     "output_type": "display_data"
    }
   ],
   "source": [
    "#confusion matrix\n",
    "y_pred=model.predict(x_val)\n",
    "y_pred_classes=np.argmax(y_pred,axis=1)\n",
    "y_true=np.argmax(y_val,axis=1)\n",
    "#compute conf mat\n",
    "conf_mat=confusion_matrix(y_true,y_pred_classes)\n",
    "#plot the con mat\n",
    "fruit_names=[\"Pretty\",\"Ugly\"]\n",
    "f,ax=plt.subplots(figsize=(12,11))\n",
    "sns.heatmap(conf_mat,annot=True,fmt='.0f')\n",
    "ax.set_xticklabels(fruit_names)\n",
    "ax.set_yticklabels(fruit_names)\n",
    "plt.show()"
   ]
  },
  {
   "cell_type": "code",
   "execution_count": 14,
   "id": "ffa728d9-ce69-4914-bf12-b4c51526b657",
   "metadata": {},
   "outputs": [
    {
     "name": "stdout",
     "output_type": "stream",
     "text": [
      "              precision    recall  f1-score   support\n",
      "\n",
      "           0       0.79      0.86      0.82       925\n",
      "           1       0.89      0.83      0.86      1256\n",
      "\n",
      "    accuracy                           0.85      2181\n",
      "   macro avg       0.84      0.85      0.84      2181\n",
      "weighted avg       0.85      0.85      0.85      2181\n",
      "\n"
     ]
    }
   ],
   "source": [
    "from sklearn.metrics import classification_report\n",
    "\n",
    "print(classification_report(y_true,y_pred_classes))\n",
    "# 0 = Pretty\n",
    "# 1 = Ugly"
   ]
  },
  {
   "cell_type": "code",
   "execution_count": 15,
   "id": "59cfe7cf-86e2-4248-86f0-f8ee29d9eee0",
   "metadata": {},
   "outputs": [
    {
     "data": {
      "image/png": "[encoded data removed]",
      "text/plain": [
       "<Figure size 864x792 with 2 Axes>"
      ]
     },
     "metadata": {
      "needs_background": "light"
     },
     "output_type": "display_data"
    }
   ],
   "source": [
    "#confusion matrix\n",
    "y_pred2=model.predict(X_test)\n",
    "y_pred_classes2=np.argmax(y_pred2,axis=1)\n",
    "y_true2=np.argmax(Y_test,axis=1)\n",
    "#compute conf mat\n",
    "conf_mat2=confusion_matrix(y_true2,y_pred_classes2)\n",
    "#plot the con mat\n",
    "f,ax=plt.subplots(figsize=(12,11))\n",
    "sns.heatmap(conf_mat2,annot=True,fmt=\".0f\")\n",
    "ax.set_xticklabels(fruit_names)\n",
    "ax.set_yticklabels(fruit_names)\n",
    "plt.show()"
   ]
  },
  {
   "cell_type": "code",
   "execution_count": 16,
   "id": "016395e2-11ee-4328-b8fd-85200b673efa",
   "metadata": {},
   "outputs": [
    {
     "data": {
      "image/png": "[encoded data removed]",
      "text/plain": [
       "<Figure size 432x288 with 1 Axes>"
      ]
     },
     "metadata": {
      "needs_background": "light"
     },
     "output_type": "display_data"
    },
    {
     "data": {
      "text/plain": [
       "<Figure size 432x288 with 0 Axes>"
      ]
     },
     "metadata": {},
     "output_type": "display_data"
    }
   ],
   "source": [
    "get_acc = history.history['accuracy']\n",
    "value_acc = history.history['val_accuracy']\n",
    "get_loss = history.history['loss']\n",
    "validation_loss = history.history['val_loss']\n",
    "\n",
    "epochs = range(len(get_acc))\n",
    "plt.plot(epochs, get_acc, 'r', label='Accuracy of Training data')\n",
    "plt.plot(epochs, value_acc, 'b', label='Accuracy of Validation data')\n",
    "plt.title('Training vs validation accuracy')\n",
    "plt.legend(loc=0)\n",
    "plt.figure()\n",
    "plt.show()"
   ]
  },
  {
   "cell_type": "code",
   "execution_count": 17,
   "id": "0e5ebdd9-de77-4f95-99fe-2a7c952e41ef",
   "metadata": {},
   "outputs": [
    {
     "data": {
      "image/png": "[encoded data removed]",
      "text/plain": [
       "<Figure size 432x288 with 1 Axes>"
      ]
     },
     "metadata": {
      "needs_background": "light"
     },
     "output_type": "display_data"
    },
    {
     "data": {
      "text/plain": [
       "<Figure size 432x288 with 0 Axes>"
      ]
     },
     "metadata": {},
     "output_type": "display_data"
    }
   ],
   "source": [
    "epochs = range(len(get_loss))\n",
    "plt.plot(epochs, get_loss, 'r', label='Loss of Training data')\n",
    "plt.plot(epochs, validation_loss, 'b', label='Loss of Validation data')\n",
    "plt.title('Training vs validation loss')\n",
    "plt.legend(loc=0)\n",
    "plt.figure()\n",
    "plt.show()"
   ]
  },
  {
   "cell_type": "code",
   "execution_count": null,
   "id": "12f51780-9017-46e1-88af-b2c329e5878f",
   "metadata": {},
   "outputs": [],
   "source": []
  },
  {
   "cell_type": "code",
   "execution_count": null,
   "id": "ef29b54e-4f35-445c-b460-7e031544fe2c",
   "metadata": {},
   "outputs": [],
   "source": []
  },
  {
   "cell_type": "code",
   "execution_count": null,
   "id": "534770fe-1ae2-4bde-8a19-b3c626bf1aa0",
   "metadata": {},
   "outputs": [],
   "source": []
  },
  {
   "cell_type": "markdown",
   "id": "021d489a-9cc9-41d0-ab7e-09b18b2b99ba",
   "metadata": {},
   "source": [
    "#Test new imported image"
   ]
  },
  {
   "cell_type": "code",
   "execution_count": 18,
   "id": "8e18add1-9d09-4be8-b822-a552646d1e10",
   "metadata": {},
   "outputs": [
    {
     "data": {
      "image/png": "[encoded data removed]",
      "text/plain": [
       "<PIL.Image.Image image mode=RGB size=100x100 at 0x2355F1E4490>"
      ]
     },
     "execution_count": 18,
     "metadata": {},
     "output_type": "execute_result"
    }
   ],
   "source": [
    "from keras.preprocessing.image import load_img\n",
    "\n",
    "load_img(r\"C:\\Users\\20205228\\OneDrive - TU Eindhoven\\Desktop\\Orange.jpg\",target_size=(100,100))"
   ]
  },
  {
   "cell_type": "code",
   "execution_count": 19,
   "id": "1a644bb5-58af-49a4-be4d-56b9a6b64fe8",
   "metadata": {},
   "outputs": [],
   "source": [
    "from keras.preprocessing.image import img_to_array\n",
    "\n",
    "\n",
    "\n",
    "image=load_img(r\"C:\\Users\\20205228\\OneDrive - TU Eindhoven\\Desktop\\Orange.jpg\",target_size=(100,100))\n",
    "image=img_to_array(image) \n",
    "image=image/255.0\n",
    "prediction_image=np.array(image)\n",
    "prediction_image= np.expand_dims(image, axis=0)"
   ]
  },
  {
   "cell_type": "code",
   "execution_count": 20,
   "id": "04bde315-77cb-4a68-a4db-bc02d992484b",
   "metadata": {},
   "outputs": [
    {
     "data": {
      "text/markdown": [
       "***Prediction is Pretty!***"
      ],
      "text/plain": [
       "<IPython.core.display.Markdown object>"
      ]
     },
     "metadata": {},
     "output_type": "display_data"
    }
   ],
   "source": [
    "from IPython.display import Markdown, display\n",
    "def printmd(string):\n",
    "    display(Markdown(string))\n",
    "\n",
    "prediction=model.predict(prediction_image)\n",
    "value=np.argmax(prediction)\n",
    "printmd(\"***Prediction is {}!***\".format(fruit_names[value]))"
   ]
  },
  {
   "cell_type": "code",
   "execution_count": 21,
   "id": "0398246e-f89c-4d61-bb08-71df29142f9d",
   "metadata": {},
   "outputs": [],
   "source": [
    "#model.save_weights('first_try_food_waste_model.h5')"
   ]
  },
  {
   "cell_type": "code",
   "execution_count": 23,
   "id": "fbbf71e9-d909-455d-9925-d71a3ea17c7b",
   "metadata": {},
   "outputs": [],
   "source": [
    "#model.save('Last_try_food_waste_model.h5')"
   ]
  },
  {
   "cell_type": "code",
   "execution_count": null,
   "id": "be1673f3-760d-4b7a-97bf-77089fd6d193",
   "metadata": {},
   "outputs": [],
   "source": []
  },
  {
   "cell_type": "code",
   "execution_count": null,
   "id": "491c0feb-dcb4-4a82-9e61-cf508220d68f",
   "metadata": {},
   "outputs": [],
   "source": []
  }
 ],
 "metadata": {
  "kernelspec": {
   "display_name": "Python 3",
   "language": "python",
   "name": "python3"
  },
  "language_info": {
   "codemirror_mode": {
    "name": "ipython",
    "version": 3
   },
   "file_extension": ".py",
   "mimetype": "text/x-python",
   "name": "python",
   "nbconvert_exporter": "python",
   "pygments_lexer": "ipython3",
   "version": "3.8.8"
  }
 },
 "nbformat": 4,
 "nbformat_minor": 5
}
