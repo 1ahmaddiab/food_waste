{
 "cells": [
  {
   "cell_type": "code",
   "execution_count": null,
   "id": "52b78a0d-48bd-4386-999b-b2ee2a7cdd9d",
   "metadata": {},
   "outputs": [],
   "source": []
  },
  {
   "cell_type": "code",
   "execution_count": 2,
   "id": "1b2a0158-afa7-4c94-92c9-5d3df8440998",
   "metadata": {},
   "outputs": [
    {
     "name": "stdout",
     "output_type": "stream",
     "text": [
      "['.ipynb_checkpoints', 'test', 'train', 'Two Classes - Fruit freshness and rottenness detection.ipynb']\n"
     ]
    }
   ],
   "source": [
    "import numpy as np\n",
    "import pandas as pd\n",
    "import matplotlib.pyplot as plt\n",
    "import seaborn as sns\n",
    "import glob\n",
    "import cv2\n",
    "import os\n",
    "\n",
    "import warnings\n",
    "# filter warnings\n",
    "warnings.filterwarnings('ignore')\n",
    "\n",
    "\n",
    "import os\n",
    "print(os.listdir(r\"C:\\Users\\20205228\\OneDrive - TU Eindhoven\\Desktop\\Hack4Good\\New dataset\\Fruit Dataset - two classes\"))\n",
    "from subprocess import check_output"
   ]
  },
  {
   "cell_type": "code",
   "execution_count": 3,
   "id": "b594a21b-d68c-4469-bd2f-50f6a35e75d7",
   "metadata": {},
   "outputs": [],
   "source": [
    "np.random.seed(1234)\n",
    "directory= r\"C:\\Users\\20205228\\OneDrive - TU Eindhoven\\Desktop\\Hack4Good\\New dataset\\Fruit Dataset - two classes\\train\"\n",
    "classes=[\"Freshness\",\"Rottenness\"]\n",
    "\n",
    "all_arrays=[]\n",
    "img_size=100\n",
    "for i in classes:\n",
    "    path=os.path.join(directory,i)\n",
    "    class_num=classes.index(i)\n",
    "    for img in os.listdir(path):\n",
    "        #img_array=cv2.imread(os.path.join(path,img),\n",
    "        #                     cv2.IMREAD_GRAYSCALE)\n",
    "        img_array=cv2.imread(os.path.join(path,img))\n",
    "        img_array=cv2.cvtColor(img_array, cv2.COLOR_BGR2RGB)\n",
    "        img_array=cv2.resize(img_array,(img_size,img_size))\n",
    "        all_arrays.append([img_array,class_num])"
   ]
  },
  {
   "cell_type": "code",
   "execution_count": 5,
   "id": "dcf9b726-0374-41bd-9f7e-dbed58d47f12",
   "metadata": {},
   "outputs": [],
   "source": [
    "directory2 = r\"C:\\Users\\20205228\\OneDrive - TU Eindhoven\\Desktop\\Hack4Good\\New dataset\\Fruit Dataset - two classes\\test\"\n",
    "classes2 =[\"Freshness\",\"Rottenness\"]\n",
    "\n",
    "all_arrays2=[]\n",
    "img_size=100\n",
    "for i in classes2:\n",
    "    path=os.path.join(directory2,i)\n",
    "    class_num2=classes2.index(i)\n",
    "    for img in os.listdir(path):\n",
    "        #img_array2=cv2.imread(os.path.join(path,img),\n",
    "        #                     cv2.IMREAD_GRAYSCALE)\n",
    "        img_array2=cv2.imread(os.path.join(path,img))\n",
    "        img_array2=cv2.cvtColor(img_array2, cv2.COLOR_BGR2RGB)\n",
    "        img_array2=cv2.resize(img_array2,(img_size,img_size))\n",
    "        all_arrays2.append([img_array2,class_num2])"
   ]
  },
  {
   "cell_type": "code",
   "execution_count": 6,
   "id": "6978f4ab-1efb-4cad-8fbe-3708095e0667",
   "metadata": {},
   "outputs": [],
   "source": [
    "import random\n",
    "random.shuffle(all_arrays)\n",
    "\n",
    "X_train=[]\n",
    "Y_train=[]\n",
    "for features,label in all_arrays:\n",
    "    X_train.append(features)\n",
    "    Y_train.append(label)\n",
    "X_train=np.array(X_train) #arraying\n",
    "\n",
    "import random\n",
    "random.shuffle(all_arrays2)\n",
    "\n",
    "X_test=[]\n",
    "Y_test=[]\n",
    "for features,label in all_arrays2:\n",
    "    X_test.append(features)\n",
    "    Y_test.append(label)\n",
    "X_test=np.array(X_test) #arraying"
   ]
  },
  {
   "cell_type": "code",
   "execution_count": 7,
   "id": "1b35d8cf-659e-4376-9eb8-09d2b8376eed",
   "metadata": {},
   "outputs": [
    {
     "name": "stdout",
     "output_type": "stream",
     "text": [
      "shape of X_train=  (503, 100, 100, 3)\n",
      "shape of X_test=   (211, 100, 100, 3)\n"
     ]
    }
   ],
   "source": [
    "#normalization and reshaping\n",
    "X_train=X_train.reshape(-1,img_size,img_size,3)\n",
    "X_train=X_train/255\n",
    "X_test=X_test.reshape(-1,img_size,img_size,3)\n",
    "X_test=X_test/255\n",
    "print(\"shape of X_train= \",X_train.shape)\n",
    "print(\"shape of X_test=  \",X_test.shape)"
   ]
  },
  {
   "cell_type": "code",
   "execution_count": 8,
   "id": "725c76db-dd58-4fc3-ac16-96aba4f0625b",
   "metadata": {},
   "outputs": [],
   "source": [
    "#from keras.utils import to_categorical\n",
    "from tensorflow.keras.utils import to_categorical\n",
    "Y_train=to_categorical(Y_train,num_classes=2)\n",
    "Y_test=to_categorical(Y_test,num_classes=2)"
   ]
  },
  {
   "cell_type": "code",
   "execution_count": 9,
   "id": "bcd183a1-e3eb-426f-8362-2196f7f783af",
   "metadata": {},
   "outputs": [
    {
     "data": {
      "text/plain": [
       "(503, 2)"
      ]
     },
     "execution_count": 9,
     "metadata": {},
     "output_type": "execute_result"
    }
   ],
   "source": [
    "Y_train.shape"
   ]
  },
  {
   "cell_type": "code",
   "execution_count": 10,
   "id": "16c49842-ba12-4d48-aa37-b898f36c8e32",
   "metadata": {},
   "outputs": [
    {
     "data": {
      "text/plain": [
       "(211, 2)"
      ]
     },
     "execution_count": 10,
     "metadata": {},
     "output_type": "execute_result"
    }
   ],
   "source": [
    "Y_test.shape"
   ]
  },
  {
   "cell_type": "code",
   "execution_count": 11,
   "id": "31ea1d80-4782-43e1-8564-551b18c66d69",
   "metadata": {},
   "outputs": [],
   "source": [
    "from sklearn.model_selection import  train_test_split\n",
    "x_train,x_val,y_train,y_val=train_test_split(X_train,Y_train,test_size=0.2,random_state=42)"
   ]
  },
  {
   "cell_type": "code",
   "execution_count": 12,
   "id": "09fc2e5d-254c-44da-858f-d58a984c5e1c",
   "metadata": {},
   "outputs": [],
   "source": [
    "from sklearn.metrics import confusion_matrix\n",
    "import itertools\n",
    "\n",
    "from keras.utils.np_utils import to_categorical\n",
    "from keras.models import Sequential\n",
    "from keras.layers import Dense,Dropout,Flatten,Conv2D,MaxPool2D\n",
    "from tensorflow.keras.optimizers import Adam\n",
    "from keras.preprocessing.image import ImageDataGenerator\n",
    "\n",
    "from keras.callbacks import ReduceLROnPlateau\n",
    "\n",
    "\n",
    "model=Sequential()\n",
    "model.add(Conv2D(filters=8,kernel_size=(3,3),padding=\"Same\",activation=\"relu\",input_shape=(100,100,3)))\n",
    "model.add(MaxPool2D(pool_size=(2,2)))\n",
    "model.add(Dropout(0.35))\n",
    "\n",
    "model.add(Conv2D(filters=16,kernel_size=(3,3),padding=\"Same\",activation=\"relu\"))\n",
    "model.add(MaxPool2D(pool_size=(2,2),strides=(2,2)))\n",
    "model.add(Dropout(0.35))\n",
    "\n",
    "model.add(Conv2D(filters=32,kernel_size=(3,3),padding=\"Same\",activation=\"relu\"))\n",
    "model.add(MaxPool2D(pool_size=(2,2),strides=(2,2)))\n",
    "model.add(Dropout(0.35))\n",
    "model.add(Flatten())\n",
    "model.add(Dense(512,activation=\"relu\"))\n",
    "model.add(Dropout(0.5))\n",
    "model.add(Dense(2,activation=\"softmax\"))\n",
    "#defining optimizer\n",
    "optimizer=Adam(lr=0.001,beta_1=0.9,beta_2=0.999)\n",
    "#compile the model\n",
    "model.compile(optimizer=optimizer,loss=\"categorical_crossentropy\",metrics=[\"accuracy\"])\n",
    "\n",
    "epochs=100\n",
    "batch_size=18"
   ]
  },
  {
   "cell_type": "code",
   "execution_count": 13,
   "id": "7fd1cd60-6f70-45a0-be7f-500a86c55e10",
   "metadata": {},
   "outputs": [
    {
     "name": "stdout",
     "output_type": "stream",
     "text": [
      "Epoch 1/100\n",
      "22/22 [==============================] - 3s 91ms/step - loss: 0.8639 - accuracy: 0.5455 - val_loss: 0.6858 - val_accuracy: 0.6139\n",
      "Epoch 2/100\n",
      "22/22 [==============================] - 2s 93ms/step - loss: 0.6980 - accuracy: 0.5469 - val_loss: 0.6913 - val_accuracy: 0.6139\n",
      "Epoch 3/100\n",
      "22/22 [==============================] - 2s 84ms/step - loss: 0.6931 - accuracy: 0.5078 - val_loss: 0.6943 - val_accuracy: 0.4059\n",
      "Epoch 4/100\n",
      "22/22 [==============================] - 2s 83ms/step - loss: 0.6896 - accuracy: 0.5521 - val_loss: 0.6887 - val_accuracy: 0.6337\n",
      "Epoch 5/100\n",
      "22/22 [==============================] - 2s 87ms/step - loss: 0.6835 - accuracy: 0.5859 - val_loss: 0.6782 - val_accuracy: 0.6535\n",
      "Epoch 6/100\n",
      "22/22 [==============================] - 2s 80ms/step - loss: 0.6563 - accuracy: 0.6250 - val_loss: 0.6601 - val_accuracy: 0.6436\n",
      "Epoch 7/100\n",
      "22/22 [==============================] - 2s 88ms/step - loss: 0.6942 - accuracy: 0.5833 - val_loss: 0.6669 - val_accuracy: 0.6634\n",
      "Epoch 8/100\n",
      "22/22 [==============================] - 2s 90ms/step - loss: 0.6640 - accuracy: 0.5729 - val_loss: 0.6629 - val_accuracy: 0.6436\n",
      "Epoch 9/100\n",
      "22/22 [==============================] - 2s 88ms/step - loss: 0.6096 - accuracy: 0.6641 - val_loss: 0.6071 - val_accuracy: 0.6733\n",
      "Epoch 10/100\n",
      "22/22 [==============================] - 2s 90ms/step - loss: 0.6139 - accuracy: 0.6641 - val_loss: 0.5959 - val_accuracy: 0.7327\n",
      "Epoch 11/100\n",
      "22/22 [==============================] - 2s 83ms/step - loss: 0.5963 - accuracy: 0.6745 - val_loss: 0.5634 - val_accuracy: 0.6733\n",
      "Epoch 12/100\n",
      "22/22 [==============================] - 2s 86ms/step - loss: 0.5900 - accuracy: 0.6719 - val_loss: 0.5656 - val_accuracy: 0.6832\n",
      "Epoch 13/100\n",
      "22/22 [==============================] - 2s 84ms/step - loss: 0.5844 - accuracy: 0.6771 - val_loss: 0.5272 - val_accuracy: 0.7327\n",
      "Epoch 14/100\n",
      "22/22 [==============================] - 2s 79ms/step - loss: 0.5774 - accuracy: 0.6849 - val_loss: 0.5122 - val_accuracy: 0.8515\n",
      "Epoch 15/100\n",
      "22/22 [==============================] - 2s 84ms/step - loss: 0.5736 - accuracy: 0.6875 - val_loss: 0.5034 - val_accuracy: 0.8317\n",
      "Epoch 16/100\n",
      "22/22 [==============================] - 2s 83ms/step - loss: 0.5570 - accuracy: 0.7214 - val_loss: 0.5339 - val_accuracy: 0.6436\n",
      "Epoch 17/100\n",
      "22/22 [==============================] - 2s 85ms/step - loss: 0.5103 - accuracy: 0.7344 - val_loss: 0.6036 - val_accuracy: 0.6535\n",
      "Epoch 18/100\n",
      "22/22 [==============================] - 2s 84ms/step - loss: 0.4975 - accuracy: 0.7630 - val_loss: 0.4743 - val_accuracy: 0.8020\n",
      "Epoch 19/100\n",
      "22/22 [==============================] - 2s 78ms/step - loss: 0.5076 - accuracy: 0.7500 - val_loss: 0.4628 - val_accuracy: 0.8020\n",
      "Epoch 20/100\n",
      "22/22 [==============================] - 2s 82ms/step - loss: 0.4886 - accuracy: 0.7812 - val_loss: 0.4956 - val_accuracy: 0.7426\n",
      "Epoch 21/100\n",
      "22/22 [==============================] - 2s 88ms/step - loss: 0.4300 - accuracy: 0.8005 - val_loss: 0.4435 - val_accuracy: 0.8119\n",
      "Epoch 22/100\n",
      "22/22 [==============================] - 2s 83ms/step - loss: 0.5153 - accuracy: 0.7500 - val_loss: 0.4323 - val_accuracy: 0.8416\n",
      "Epoch 23/100\n",
      "22/22 [==============================] - 2s 82ms/step - loss: 0.4897 - accuracy: 0.7656 - val_loss: 0.5488 - val_accuracy: 0.7129\n",
      "Epoch 24/100\n",
      "22/22 [==============================] - 2s 80ms/step - loss: 0.5177 - accuracy: 0.7448 - val_loss: 0.4396 - val_accuracy: 0.8713\n",
      "Epoch 25/100\n",
      "22/22 [==============================] - 2s 88ms/step - loss: 0.4615 - accuracy: 0.7891 - val_loss: 0.5021 - val_accuracy: 0.7030\n",
      "Epoch 26/100\n",
      "22/22 [==============================] - 2s 95ms/step - loss: 0.4703 - accuracy: 0.7955 - val_loss: 0.4783 - val_accuracy: 0.8119\n",
      "Epoch 27/100\n",
      "22/22 [==============================] - 2s 93ms/step - loss: 0.4449 - accuracy: 0.7969 - val_loss: 0.4191 - val_accuracy: 0.8317\n",
      "Epoch 28/100\n",
      "22/22 [==============================] - 2s 110ms/step - loss: 0.4304 - accuracy: 0.7995 - val_loss: 0.3926 - val_accuracy: 0.8218\n",
      "Epoch 29/100\n",
      "22/22 [==============================] - 2s 89ms/step - loss: 0.4731 - accuracy: 0.7702 - val_loss: 0.5215 - val_accuracy: 0.7228\n",
      "Epoch 30/100\n",
      "22/22 [==============================] - 2s 86ms/step - loss: 0.4367 - accuracy: 0.8281 - val_loss: 0.3973 - val_accuracy: 0.8416\n",
      "Epoch 31/100\n",
      "22/22 [==============================] - 2s 88ms/step - loss: 0.4643 - accuracy: 0.7865 - val_loss: 0.3756 - val_accuracy: 0.8317\n",
      "Epoch 32/100\n",
      "22/22 [==============================] - 2s 85ms/step - loss: 0.4692 - accuracy: 0.7969 - val_loss: 0.4152 - val_accuracy: 0.8119\n",
      "Epoch 33/100\n",
      "22/22 [==============================] - 2s 93ms/step - loss: 0.4924 - accuracy: 0.7656 - val_loss: 0.5333 - val_accuracy: 0.6931\n",
      "Epoch 34/100\n",
      "22/22 [==============================] - 2s 93ms/step - loss: 0.4466 - accuracy: 0.8005 - val_loss: 0.3820 - val_accuracy: 0.8317\n",
      "Epoch 35/100\n",
      "22/22 [==============================] - 2s 80ms/step - loss: 0.4713 - accuracy: 0.7812 - val_loss: 0.4821 - val_accuracy: 0.6832\n",
      "Epoch 36/100\n",
      "22/22 [==============================] - 2s 80ms/step - loss: 0.4283 - accuracy: 0.8099 - val_loss: 0.5494 - val_accuracy: 0.7228\n",
      "Epoch 37/100\n",
      "22/22 [==============================] - 2s 91ms/step - loss: 0.4078 - accuracy: 0.8099 - val_loss: 0.4131 - val_accuracy: 0.7921\n",
      "Epoch 38/100\n",
      "22/22 [==============================] - 2s 81ms/step - loss: 0.4866 - accuracy: 0.7891 - val_loss: 0.4442 - val_accuracy: 0.7723\n",
      "Epoch 39/100\n",
      "22/22 [==============================] - 2s 82ms/step - loss: 0.4832 - accuracy: 0.7812 - val_loss: 0.4285 - val_accuracy: 0.8020\n",
      "Epoch 40/100\n",
      "22/22 [==============================] - 2s 88ms/step - loss: 0.4564 - accuracy: 0.7891 - val_loss: 0.7496 - val_accuracy: 0.6634\n",
      "Epoch 41/100\n",
      "22/22 [==============================] - 2s 92ms/step - loss: 0.4203 - accuracy: 0.8177 - val_loss: 0.7818 - val_accuracy: 0.6733\n",
      "Epoch 42/100\n",
      "22/22 [==============================] - 2s 93ms/step - loss: 0.4526 - accuracy: 0.7969 - val_loss: 0.6947 - val_accuracy: 0.6733\n",
      "Epoch 43/100\n",
      "22/22 [==============================] - 2s 80ms/step - loss: 0.4308 - accuracy: 0.8281 - val_loss: 0.4002 - val_accuracy: 0.8317\n",
      "Epoch 44/100\n",
      "22/22 [==============================] - 2s 79ms/step - loss: 0.4356 - accuracy: 0.8099 - val_loss: 0.5969 - val_accuracy: 0.7030\n",
      "Epoch 45/100\n",
      "22/22 [==============================] - 2s 83ms/step - loss: 0.4445 - accuracy: 0.8099 - val_loss: 0.7824 - val_accuracy: 0.6634\n",
      "Epoch 46/100\n",
      "22/22 [==============================] - 2s 86ms/step - loss: 0.4107 - accuracy: 0.8203 - val_loss: 0.8153 - val_accuracy: 0.6832\n",
      "Epoch 47/100\n",
      "22/22 [==============================] - 2s 80ms/step - loss: 0.4644 - accuracy: 0.7865 - val_loss: 0.7815 - val_accuracy: 0.6733\n",
      "Epoch 48/100\n",
      "22/22 [==============================] - 2s 81ms/step - loss: 0.4615 - accuracy: 0.7778 - val_loss: 0.5842 - val_accuracy: 0.6337\n",
      "Epoch 49/100\n",
      "22/22 [==============================] - 2s 90ms/step - loss: 0.4493 - accuracy: 0.7917 - val_loss: 0.5338 - val_accuracy: 0.7426\n",
      "Epoch 50/100\n",
      "22/22 [==============================] - 2s 84ms/step - loss: 0.4074 - accuracy: 0.8255 - val_loss: 0.8400 - val_accuracy: 0.6733\n",
      "Epoch 51/100\n",
      "22/22 [==============================] - 2s 81ms/step - loss: 0.4177 - accuracy: 0.8151 - val_loss: 0.9897 - val_accuracy: 0.6832\n",
      "Epoch 52/100\n",
      "22/22 [==============================] - 2s 79ms/step - loss: 0.4011 - accuracy: 0.8359 - val_loss: 0.5972 - val_accuracy: 0.7228\n",
      "Epoch 53/100\n",
      "22/22 [==============================] - 2s 80ms/step - loss: 0.3985 - accuracy: 0.8281 - val_loss: 0.9471 - val_accuracy: 0.6931\n",
      "Epoch 54/100\n",
      "22/22 [==============================] - 2s 82ms/step - loss: 0.4245 - accuracy: 0.8073 - val_loss: 0.8336 - val_accuracy: 0.6832\n",
      "Epoch 55/100\n",
      "22/22 [==============================] - 2s 84ms/step - loss: 0.3878 - accuracy: 0.8203 - val_loss: 0.7180 - val_accuracy: 0.7327\n",
      "Epoch 56/100\n",
      "22/22 [==============================] - 2s 85ms/step - loss: 0.4025 - accuracy: 0.8333 - val_loss: 0.6919 - val_accuracy: 0.7327\n",
      "Epoch 57/100\n",
      "22/22 [==============================] - 2s 86ms/step - loss: 0.3894 - accuracy: 0.8464 - val_loss: 0.8300 - val_accuracy: 0.7327\n",
      "Epoch 58/100\n",
      "22/22 [==============================] - 2s 89ms/step - loss: 0.4365 - accuracy: 0.8125 - val_loss: 1.0936 - val_accuracy: 0.6931\n",
      "Epoch 59/100\n",
      "22/22 [==============================] - 2s 99ms/step - loss: 0.4103 - accuracy: 0.8021 - val_loss: 1.0350 - val_accuracy: 0.6733\n",
      "Epoch 60/100\n",
      "22/22 [==============================] - 2s 84ms/step - loss: 0.4255 - accuracy: 0.8307 - val_loss: 0.8043 - val_accuracy: 0.7228\n",
      "Epoch 61/100\n",
      "22/22 [==============================] - 2s 85ms/step - loss: 0.3771 - accuracy: 0.8359 - val_loss: 0.7697 - val_accuracy: 0.7228\n",
      "Epoch 62/100\n",
      "22/22 [==============================] - 2s 91ms/step - loss: 0.5027 - accuracy: 0.7656 - val_loss: 0.3976 - val_accuracy: 0.7624\n",
      "Epoch 63/100\n",
      "22/22 [==============================] - 2s 88ms/step - loss: 0.4068 - accuracy: 0.8490 - val_loss: 0.5610 - val_accuracy: 0.7723\n",
      "Epoch 64/100\n",
      "22/22 [==============================] - 2s 80ms/step - loss: 0.4141 - accuracy: 0.8099 - val_loss: 0.6833 - val_accuracy: 0.7228\n",
      "Epoch 65/100\n",
      "22/22 [==============================] - 2s 80ms/step - loss: 0.3901 - accuracy: 0.7995 - val_loss: 0.8604 - val_accuracy: 0.7228\n",
      "Epoch 66/100\n",
      "22/22 [==============================] - 2s 85ms/step - loss: 0.3844 - accuracy: 0.8229 - val_loss: 0.5988 - val_accuracy: 0.7822\n",
      "Epoch 67/100\n",
      "22/22 [==============================] - 2s 84ms/step - loss: 0.3877 - accuracy: 0.8177 - val_loss: 0.9084 - val_accuracy: 0.6931\n",
      "Epoch 68/100\n",
      "22/22 [==============================] - 2s 81ms/step - loss: 0.3680 - accuracy: 0.8307 - val_loss: 0.7447 - val_accuracy: 0.7129\n",
      "Epoch 69/100\n",
      "22/22 [==============================] - 2s 78ms/step - loss: 0.4105 - accuracy: 0.8385 - val_loss: 0.8626 - val_accuracy: 0.7228\n",
      "Epoch 70/100\n",
      "22/22 [==============================] - 2s 80ms/step - loss: 0.3522 - accuracy: 0.8568 - val_loss: 1.0955 - val_accuracy: 0.7129\n",
      "Epoch 71/100\n",
      "22/22 [==============================] - 2s 88ms/step - loss: 0.3616 - accuracy: 0.8542 - val_loss: 1.2354 - val_accuracy: 0.7327\n",
      "Epoch 72/100\n",
      "22/22 [==============================] - 2s 80ms/step - loss: 0.4024 - accuracy: 0.8229 - val_loss: 0.9650 - val_accuracy: 0.7327\n",
      "Epoch 73/100\n",
      "22/22 [==============================] - 2s 80ms/step - loss: 0.3853 - accuracy: 0.8385 - val_loss: 1.2443 - val_accuracy: 0.7030\n",
      "Epoch 74/100\n",
      "22/22 [==============================] - 2s 81ms/step - loss: 0.3575 - accuracy: 0.8385 - val_loss: 1.3395 - val_accuracy: 0.6931\n",
      "Epoch 75/100\n",
      "22/22 [==============================] - 2s 84ms/step - loss: 0.3740 - accuracy: 0.8385 - val_loss: 0.6099 - val_accuracy: 0.7327\n",
      "Epoch 76/100\n",
      "22/22 [==============================] - 2s 84ms/step - loss: 0.3551 - accuracy: 0.8516 - val_loss: 0.5783 - val_accuracy: 0.7327\n",
      "Epoch 77/100\n",
      "22/22 [==============================] - 2s 78ms/step - loss: 0.3817 - accuracy: 0.8229 - val_loss: 0.7878 - val_accuracy: 0.7327\n",
      "Epoch 78/100\n",
      "22/22 [==============================] - 2s 82ms/step - loss: 0.3745 - accuracy: 0.8281 - val_loss: 0.9530 - val_accuracy: 0.7030\n",
      "Epoch 79/100\n",
      "22/22 [==============================] - 2s 84ms/step - loss: 0.4096 - accuracy: 0.8307 - val_loss: 1.1717 - val_accuracy: 0.6832\n",
      "Epoch 80/100\n",
      "22/22 [==============================] - 2s 90ms/step - loss: 0.3721 - accuracy: 0.8464 - val_loss: 0.5431 - val_accuracy: 0.7327\n",
      "Epoch 81/100\n",
      "22/22 [==============================] - 2s 85ms/step - loss: 0.3869 - accuracy: 0.8255 - val_loss: 0.6302 - val_accuracy: 0.7327\n",
      "Epoch 82/100\n",
      "22/22 [==============================] - 2s 81ms/step - loss: 0.3674 - accuracy: 0.8229 - val_loss: 0.6486 - val_accuracy: 0.7129\n",
      "Epoch 83/100\n",
      "22/22 [==============================] - 2s 84ms/step - loss: 0.3657 - accuracy: 0.8281 - val_loss: 1.0689 - val_accuracy: 0.7228\n",
      "Epoch 84/100\n",
      "22/22 [==============================] - 2s 90ms/step - loss: 0.3764 - accuracy: 0.8281 - val_loss: 1.1493 - val_accuracy: 0.7228\n",
      "Epoch 85/100\n",
      "22/22 [==============================] - 2s 87ms/step - loss: 0.3602 - accuracy: 0.8464 - val_loss: 0.4408 - val_accuracy: 0.7525\n",
      "Epoch 86/100\n",
      "22/22 [==============================] - 2s 82ms/step - loss: 0.3534 - accuracy: 0.8438 - val_loss: 0.6334 - val_accuracy: 0.7426\n",
      "Epoch 87/100\n",
      "22/22 [==============================] - 2s 85ms/step - loss: 0.3649 - accuracy: 0.8438 - val_loss: 1.0889 - val_accuracy: 0.7129\n",
      "Epoch 88/100\n",
      "22/22 [==============================] - 2s 83ms/step - loss: 0.3468 - accuracy: 0.8568 - val_loss: 1.2189 - val_accuracy: 0.7228\n",
      "Epoch 89/100\n",
      "22/22 [==============================] - 2s 83ms/step - loss: 0.3323 - accuracy: 0.8672 - val_loss: 1.5928 - val_accuracy: 0.7129\n",
      "Epoch 90/100\n",
      "22/22 [==============================] - 2s 82ms/step - loss: 0.3830 - accuracy: 0.8255 - val_loss: 1.4019 - val_accuracy: 0.7129\n",
      "Epoch 91/100\n",
      "22/22 [==============================] - 2s 90ms/step - loss: 0.3893 - accuracy: 0.8151 - val_loss: 0.5458 - val_accuracy: 0.7624\n",
      "Epoch 92/100\n",
      "22/22 [==============================] - 2s 90ms/step - loss: 0.3068 - accuracy: 0.8672 - val_loss: 0.5879 - val_accuracy: 0.7426\n",
      "Epoch 93/100\n",
      "22/22 [==============================] - 2s 86ms/step - loss: 0.3922 - accuracy: 0.8411 - val_loss: 0.7670 - val_accuracy: 0.7426\n",
      "Epoch 94/100\n",
      "22/22 [==============================] - 2s 82ms/step - loss: 0.3390 - accuracy: 0.8542 - val_loss: 1.0285 - val_accuracy: 0.7228\n",
      "Epoch 95/100\n",
      "22/22 [==============================] - 2s 86ms/step - loss: 0.3746 - accuracy: 0.8333 - val_loss: 0.7974 - val_accuracy: 0.7228\n",
      "Epoch 96/100\n",
      "22/22 [==============================] - 2s 89ms/step - loss: 0.3089 - accuracy: 0.8724 - val_loss: 0.6695 - val_accuracy: 0.7525\n",
      "Epoch 97/100\n",
      "22/22 [==============================] - 2s 82ms/step - loss: 0.4089 - accuracy: 0.8203 - val_loss: 0.6899 - val_accuracy: 0.7426\n",
      "Epoch 98/100\n",
      "22/22 [==============================] - 2s 81ms/step - loss: 0.3199 - accuracy: 0.8698 - val_loss: 0.7741 - val_accuracy: 0.7525\n",
      "Epoch 99/100\n",
      "22/22 [==============================] - 2s 81ms/step - loss: 0.3703 - accuracy: 0.8490 - val_loss: 0.5680 - val_accuracy: 0.7723\n",
      "Epoch 100/100\n",
      "22/22 [==============================] - 2s 86ms/step - loss: 0.3567 - accuracy: 0.8464 - val_loss: 0.9871 - val_accuracy: 0.7327\n"
     ]
    }
   ],
   "source": [
    "datagen=ImageDataGenerator(featurewise_center=False, #set input mean to 0\n",
    "                           samplewise_center=False,  #set each sample mean to 0\n",
    "                           featurewise_std_normalization=False, #divide input datas to std\n",
    "                           samplewise_std_normalization=False,  #divide each datas to own std\n",
    "                           zca_whitening=False,  #dimension reduction\n",
    "                           rotation_range=0.5,    #rotate 5 degree\n",
    "                           zoom_range=0.5,        #zoom in-out 5%\n",
    "                           width_shift_range=0.5, #shift 5%\n",
    "                           height_shift_range=0.5,\n",
    "                           horizontal_flip=False,  #randomly flip images\n",
    "                           vertical_flip=False,\n",
    "                           )\n",
    "datagen.fit(x_train)\n",
    "\n",
    "#model fitting\n",
    "history=model.fit_generator(datagen.flow(x_train,y_train,batch_size=batch_size),epochs=epochs,\n",
    "                            validation_data=(x_val,y_val),steps_per_epoch=x_train.shape[0]//batch_size\n",
    "                           )\n"
   ]
  },
  {
   "cell_type": "code",
   "execution_count": 14,
   "id": "d196b180-5ffe-41d0-a815-da7183d863b6",
   "metadata": {},
   "outputs": [
    {
     "data": {
      "image/png": "[encoded data removed]",
      "text/plain": [
       "<Figure size 432x288 with 1 Axes>"
      ]
     },
     "metadata": {
      "needs_background": "light"
     },
     "output_type": "display_data"
    }
   ],
   "source": [
    "plt.plot(history.history[\"val_accuracy\"],color=\"r\",label=\"val_accuracy\")\n",
    "plt.title(\"Accuracy Graph\")\n",
    "plt.xlabel(\"number of epochs\")\n",
    "plt.ylabel(\"accuracy\")\n",
    "plt.legend()\n",
    "plt.grid()\n",
    "plt.show()"
   ]
  },
  {
   "cell_type": "code",
   "execution_count": 15,
   "id": "f281ba90-38da-46c5-ae27-6df63ab448c9",
   "metadata": {},
   "outputs": [
    {
     "data": {
      "image/png": "[encoded data removed]",
      "text/plain": [
       "<Figure size 864x792 with 2 Axes>"
      ]
     },
     "metadata": {
      "needs_background": "light"
     },
     "output_type": "display_data"
    }
   ],
   "source": [
    "#confusion matrix\n",
    "y_pred=model.predict(x_val)\n",
    "y_pred_classes=np.argmax(y_pred,axis=1)\n",
    "y_true=np.argmax(y_val,axis=1)\n",
    "#compute conf mat\n",
    "conf_mat=confusion_matrix(y_true,y_pred_classes)\n",
    "#plot the con mat\n",
    "fruit_names=[\"Freshness\",\"Rottenness\"]\n",
    "f,ax=plt.subplots(figsize=(12,11))\n",
    "sns.heatmap(conf_mat,annot=True,fmt='.0f')\n",
    "ax.set_xticklabels(fruit_names)\n",
    "ax.set_yticklabels(fruit_names)\n",
    "plt.show()"
   ]
  },
  {
   "cell_type": "code",
   "execution_count": 16,
   "id": "ffa728d9-ce69-4914-bf12-b4c51526b657",
   "metadata": {},
   "outputs": [
    {
     "name": "stdout",
     "output_type": "stream",
     "text": [
      "              precision    recall  f1-score   support\n",
      "\n",
      "           0       1.00      0.31      0.47        39\n",
      "           1       0.70      1.00      0.82        62\n",
      "\n",
      "    accuracy                           0.73       101\n",
      "   macro avg       0.85      0.65      0.65       101\n",
      "weighted avg       0.81      0.73      0.69       101\n",
      "\n"
     ]
    }
   ],
   "source": [
    "from sklearn.metrics import classification_report\n",
    "\n",
    "print(classification_report(y_true,y_pred_classes))\n",
    "# 0 = Freshness\n",
    "# 1 = Rottenness"
   ]
  },
  {
   "cell_type": "code",
   "execution_count": 17,
   "id": "59cfe7cf-86e2-4248-86f0-f8ee29d9eee0",
   "metadata": {},
   "outputs": [
    {
     "data": {
      "image/png": "[encoded data removed]",
      "text/plain": [
       "<Figure size 864x792 with 2 Axes>"
      ]
     },
     "metadata": {
      "needs_background": "light"
     },
     "output_type": "display_data"
    }
   ],
   "source": [
    "#confusion matrix\n",
    "y_pred2=model.predict(X_test)\n",
    "y_pred_classes2=np.argmax(y_pred2,axis=1)\n",
    "y_true2=np.argmax(Y_test,axis=1)\n",
    "#compute conf mat\n",
    "conf_mat2=confusion_matrix(y_true2,y_pred_classes2)\n",
    "#plot the con mat\n",
    "f,ax=plt.subplots(figsize=(12,11))\n",
    "sns.heatmap(conf_mat2,annot=True,fmt=\".0f\")\n",
    "ax.set_xticklabels(fruit_names)\n",
    "ax.set_yticklabels(fruit_names)\n",
    "plt.show()"
   ]
  },
  {
   "cell_type": "code",
   "execution_count": 18,
   "id": "016395e2-11ee-4328-b8fd-85200b673efa",
   "metadata": {},
   "outputs": [
    {
     "data": {
      "image/png": "[encoded data removed]",
      "text/plain": [
       "<Figure size 432x288 with 1 Axes>"
      ]
     },
     "metadata": {
      "needs_background": "light"
     },
     "output_type": "display_data"
    },
    {
     "data": {
      "text/plain": [
       "<Figure size 432x288 with 0 Axes>"
      ]
     },
     "metadata": {},
     "output_type": "display_data"
    }
   ],
   "source": [
    "get_acc = history.history['accuracy']\n",
    "value_acc = history.history['val_accuracy']\n",
    "get_loss = history.history['loss']\n",
    "validation_loss = history.history['val_loss']\n",
    "\n",
    "epochs = range(len(get_acc))\n",
    "plt.plot(epochs, get_acc, 'r', label='Accuracy of Training data')\n",
    "plt.plot(epochs, value_acc, 'b', label='Accuracy of Validation data')\n",
    "plt.title('Training vs validation accuracy')\n",
    "plt.legend(loc=0)\n",
    "plt.figure()\n",
    "plt.show()"
   ]
  },
  {
   "cell_type": "code",
   "execution_count": 19,
   "id": "0e5ebdd9-de77-4f95-99fe-2a7c952e41ef",
   "metadata": {},
   "outputs": [
    {
     "data": {
      "image/png": "[encoded data removed]",
      "text/plain": [
       "<Figure size 432x288 with 1 Axes>"
      ]
     },
     "metadata": {
      "needs_background": "light"
     },
     "output_type": "display_data"
    },
    {
     "data": {
      "text/plain": [
       "<Figure size 432x288 with 0 Axes>"
      ]
     },
     "metadata": {},
     "output_type": "display_data"
    }
   ],
   "source": [
    "epochs = range(len(get_loss))\n",
    "plt.plot(epochs, get_loss, 'r', label='Loss of Training data')\n",
    "plt.plot(epochs, validation_loss, 'b', label='Loss of Validation data')\n",
    "plt.title('Training vs validation loss')\n",
    "plt.legend(loc=0)\n",
    "plt.figure()\n",
    "plt.show()"
   ]
  },
  {
   "cell_type": "code",
   "execution_count": null,
   "id": "12f51780-9017-46e1-88af-b2c329e5878f",
   "metadata": {},
   "outputs": [],
   "source": []
  },
  {
   "cell_type": "code",
   "execution_count": null,
   "id": "ef29b54e-4f35-445c-b460-7e031544fe2c",
   "metadata": {},
   "outputs": [],
   "source": []
  },
  {
   "cell_type": "code",
   "execution_count": null,
   "id": "534770fe-1ae2-4bde-8a19-b3c626bf1aa0",
   "metadata": {},
   "outputs": [],
   "source": []
  },
  {
   "cell_type": "markdown",
   "id": "021d489a-9cc9-41d0-ab7e-09b18b2b99ba",
   "metadata": {},
   "source": [
    "#Test new imported image"
   ]
  },
  {
   "cell_type": "code",
   "execution_count": 20,
   "id": "8e18add1-9d09-4be8-b822-a552646d1e10",
   "metadata": {},
   "outputs": [
    {
     "data": {
      "image/png": "[encoded data removed]",
      "text/plain": [
       "<PIL.Image.Image image mode=RGB size=100x100 at 0x287324375B0>"
      ]
     },
     "execution_count": 20,
     "metadata": {},
     "output_type": "execute_result"
    }
   ],
   "source": [
    "from keras.preprocessing.image import load_img\n",
    "\n",
    "load_img(r\"C:\\Users\\20205228\\OneDrive - TU Eindhoven\\Desktop\\rotten banana.jpg\",target_size=(100,100))"
   ]
  },
  {
   "cell_type": "code",
   "execution_count": 21,
   "id": "1a644bb5-58af-49a4-be4d-56b9a6b64fe8",
   "metadata": {},
   "outputs": [],
   "source": [
    "from keras.preprocessing.image import img_to_array\n",
    "\n",
    "\n",
    "\n",
    "image=load_img(r\"C:\\Users\\20205228\\OneDrive - TU Eindhoven\\Desktop\\rotten banana.jpg\",target_size=(100,100))\n",
    "image=img_to_array(image) \n",
    "image=image/255.0\n",
    "prediction_image=np.array(image)\n",
    "prediction_image= np.expand_dims(image, axis=0)"
   ]
  },
  {
   "cell_type": "code",
   "execution_count": 22,
   "id": "04bde315-77cb-4a68-a4db-bc02d992484b",
   "metadata": {},
   "outputs": [
    {
     "data": {
      "text/markdown": [
       "***Prediction is Rottenness!***"
      ],
      "text/plain": [
       "<IPython.core.display.Markdown object>"
      ]
     },
     "metadata": {},
     "output_type": "display_data"
    }
   ],
   "source": [
    "from IPython.display import Markdown, display\n",
    "def printmd(string):\n",
    "    display(Markdown(string))\n",
    "\n",
    "prediction=model.predict(prediction_image)\n",
    "value=np.argmax(prediction)\n",
    "printmd(\"***Prediction is {}!***\".format(fruit_names[value]))"
   ]
  },
  {
   "cell_type": "code",
   "execution_count": null,
   "id": "0398246e-f89c-4d61-bb08-71df29142f9d",
   "metadata": {},
   "outputs": [],
   "source": []
  },
  {
   "cell_type": "code",
   "execution_count": null,
   "id": "fbbf71e9-d909-455d-9925-d71a3ea17c7b",
   "metadata": {},
   "outputs": [],
   "source": []
  }
 ],
 "metadata": {
  "kernelspec": {
   "display_name": "Python 3",
   "language": "python",
   "name": "python3"
  },
  "language_info": {
   "codemirror_mode": {
    "name": "ipython",
    "version": 3
   },
   "file_extension": ".py",
   "mimetype": "text/x-python",
   "name": "python",
   "nbconvert_exporter": "python",
   "pygments_lexer": "ipython3",
   "version": "3.8.8"
  }
 },
 "nbformat": 4,
 "nbformat_minor": 5
}
